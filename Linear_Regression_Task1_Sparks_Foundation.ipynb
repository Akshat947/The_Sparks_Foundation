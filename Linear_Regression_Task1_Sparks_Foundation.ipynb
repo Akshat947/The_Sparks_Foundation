{
 "cells": [
  {
   "cell_type": "markdown",
   "metadata": {},
   "source": [
    "### TASK 1 -  In this regression task we will predict the percentage of marks that a student is expected to score based upon the number of hours they studied. \n",
    "\n",
    "### What will be predicted score if a student study for 9.25 hrs in a day?\n"
   ]
  },
  {
   "cell_type": "code",
   "execution_count": 1,
   "metadata": {},
   "outputs": [],
   "source": [
    "import pandas as pd\n",
    "import numpy as np\n",
    "import pandas_profiling\n",
    "import matplotlib.pyplot as plt\n",
    "%matplotlib inline\n",
    "import seaborn as sns\n",
    "import statsmodels.formula.api as smf\n",
    "from sklearn import metrics\n",
    "from sklearn.model_selection import train_test_split\n",
    "from scipy import stats"
   ]
  },
  {
   "cell_type": "code",
   "execution_count": 2,
   "metadata": {},
   "outputs": [],
   "source": [
    "data=pd.read_csv('https://raw.githubusercontent.com/AdiPersonalWorks/Random/master/student_scores%20-%20student_scores.csv')"
   ]
  },
  {
   "cell_type": "code",
   "execution_count": 3,
   "metadata": {},
   "outputs": [
    {
     "data": {
      "text/html": [
       "<div>\n",
       "<style scoped>\n",
       "    .dataframe tbody tr th:only-of-type {\n",
       "        vertical-align: middle;\n",
       "    }\n",
       "\n",
       "    .dataframe tbody tr th {\n",
       "        vertical-align: top;\n",
       "    }\n",
       "\n",
       "    .dataframe thead th {\n",
       "        text-align: right;\n",
       "    }\n",
       "</style>\n",
       "<table border=\"1\" class=\"dataframe\">\n",
       "  <thead>\n",
       "    <tr style=\"text-align: right;\">\n",
       "      <th></th>\n",
       "      <th>Hours</th>\n",
       "      <th>Scores</th>\n",
       "    </tr>\n",
       "  </thead>\n",
       "  <tbody>\n",
       "    <tr>\n",
       "      <th>0</th>\n",
       "      <td>2.5</td>\n",
       "      <td>21</td>\n",
       "    </tr>\n",
       "    <tr>\n",
       "      <th>1</th>\n",
       "      <td>5.1</td>\n",
       "      <td>47</td>\n",
       "    </tr>\n",
       "    <tr>\n",
       "      <th>2</th>\n",
       "      <td>3.2</td>\n",
       "      <td>27</td>\n",
       "    </tr>\n",
       "    <tr>\n",
       "      <th>3</th>\n",
       "      <td>8.5</td>\n",
       "      <td>75</td>\n",
       "    </tr>\n",
       "    <tr>\n",
       "      <th>4</th>\n",
       "      <td>3.5</td>\n",
       "      <td>30</td>\n",
       "    </tr>\n",
       "  </tbody>\n",
       "</table>\n",
       "</div>"
      ],
      "text/plain": [
       "   Hours  Scores\n",
       "0    2.5      21\n",
       "1    5.1      47\n",
       "2    3.2      27\n",
       "3    8.5      75\n",
       "4    3.5      30"
      ]
     },
     "execution_count": 3,
     "metadata": {},
     "output_type": "execute_result"
    }
   ],
   "source": [
    "data.head()"
   ]
  },
  {
   "cell_type": "code",
   "execution_count": 4,
   "metadata": {},
   "outputs": [
    {
     "name": "stdout",
     "output_type": "stream",
     "text": [
      "<class 'pandas.core.frame.DataFrame'>\n",
      "RangeIndex: 25 entries, 0 to 24\n",
      "Data columns (total 2 columns):\n",
      "Hours     25 non-null float64\n",
      "Scores    25 non-null int64\n",
      "dtypes: float64(1), int64(1)\n",
      "memory usage: 480.0 bytes\n"
     ]
    }
   ],
   "source": [
    "data.info()"
   ]
  },
  {
   "cell_type": "code",
   "execution_count": 5,
   "metadata": {},
   "outputs": [],
   "source": [
    "def cont_var_summary(x):\n",
    "    n=x.count()\n",
    "    nmiss=x.isnull().sum()\n",
    "    avg=x.mean()\n",
    "    med=x.median()\n",
    "    variance=x.var()\n",
    "    stdev=x.std()\n",
    "    mini=x.min()\n",
    "    p1=x.quantile(0.01)\n",
    "    p5=x.quantile(0.05)\n",
    "    p10=x.quantile(0.10)\n",
    "    p25=x.quantile(0.25)\n",
    "    p50=x.quantile(0.50)\n",
    "    p75=x.quantile(0.75)\n",
    "    p90=x.quantile(0.90)\n",
    "    p95=x.quantile(0.95)\n",
    "    p99=x.quantile(0.99)\n",
    "    maxi=x.max()\n",
    "    res=pd.Series([n,nmiss,avg,med,variance,stdev,mini,p1,p5,p10,p25,\n",
    "                  p50,p75,p90,p95,p99,maxi],index=['N','NMiss','Mean','Median',\n",
    "                                                  'Variance','StDev','Min','P1',\n",
    "                                                  'P5','P10','P25','P50','P75',\n",
    "                                                  'P90','P95','P99','Max'])\n",
    "    return res"
   ]
  },
  {
   "cell_type": "code",
   "execution_count": 6,
   "metadata": {},
   "outputs": [
    {
     "data": {
      "text/html": [
       "<div>\n",
       "<style scoped>\n",
       "    .dataframe tbody tr th:only-of-type {\n",
       "        vertical-align: middle;\n",
       "    }\n",
       "\n",
       "    .dataframe tbody tr th {\n",
       "        vertical-align: top;\n",
       "    }\n",
       "\n",
       "    .dataframe thead th {\n",
       "        text-align: right;\n",
       "    }\n",
       "</style>\n",
       "<table border=\"1\" class=\"dataframe\">\n",
       "  <thead>\n",
       "    <tr style=\"text-align: right;\">\n",
       "      <th></th>\n",
       "      <th>Hours</th>\n",
       "      <th>Scores</th>\n",
       "    </tr>\n",
       "  </thead>\n",
       "  <tbody>\n",
       "    <tr>\n",
       "      <th>N</th>\n",
       "      <td>25.000000</td>\n",
       "      <td>25.000000</td>\n",
       "    </tr>\n",
       "    <tr>\n",
       "      <th>NMiss</th>\n",
       "      <td>0.000000</td>\n",
       "      <td>0.000000</td>\n",
       "    </tr>\n",
       "    <tr>\n",
       "      <th>Mean</th>\n",
       "      <td>5.012000</td>\n",
       "      <td>51.480000</td>\n",
       "    </tr>\n",
       "    <tr>\n",
       "      <th>Median</th>\n",
       "      <td>4.800000</td>\n",
       "      <td>47.000000</td>\n",
       "    </tr>\n",
       "    <tr>\n",
       "      <th>Variance</th>\n",
       "      <td>6.376100</td>\n",
       "      <td>639.426667</td>\n",
       "    </tr>\n",
       "    <tr>\n",
       "      <th>StDev</th>\n",
       "      <td>2.525094</td>\n",
       "      <td>25.286887</td>\n",
       "    </tr>\n",
       "    <tr>\n",
       "      <th>Min</th>\n",
       "      <td>1.100000</td>\n",
       "      <td>17.000000</td>\n",
       "    </tr>\n",
       "    <tr>\n",
       "      <th>P1</th>\n",
       "      <td>1.196000</td>\n",
       "      <td>17.720000</td>\n",
       "    </tr>\n",
       "    <tr>\n",
       "      <th>P5</th>\n",
       "      <td>1.580000</td>\n",
       "      <td>20.200000</td>\n",
       "    </tr>\n",
       "    <tr>\n",
       "      <th>P10</th>\n",
       "      <td>2.140000</td>\n",
       "      <td>22.200000</td>\n",
       "    </tr>\n",
       "    <tr>\n",
       "      <th>P25</th>\n",
       "      <td>2.700000</td>\n",
       "      <td>30.000000</td>\n",
       "    </tr>\n",
       "    <tr>\n",
       "      <th>P50</th>\n",
       "      <td>4.800000</td>\n",
       "      <td>47.000000</td>\n",
       "    </tr>\n",
       "    <tr>\n",
       "      <th>P75</th>\n",
       "      <td>7.400000</td>\n",
       "      <td>75.000000</td>\n",
       "    </tr>\n",
       "    <tr>\n",
       "      <th>P90</th>\n",
       "      <td>8.420000</td>\n",
       "      <td>85.600000</td>\n",
       "    </tr>\n",
       "    <tr>\n",
       "      <th>P95</th>\n",
       "      <td>8.820000</td>\n",
       "      <td>87.600000</td>\n",
       "    </tr>\n",
       "    <tr>\n",
       "      <th>P99</th>\n",
       "      <td>9.128000</td>\n",
       "      <td>93.320000</td>\n",
       "    </tr>\n",
       "    <tr>\n",
       "      <th>Max</th>\n",
       "      <td>9.200000</td>\n",
       "      <td>95.000000</td>\n",
       "    </tr>\n",
       "  </tbody>\n",
       "</table>\n",
       "</div>"
      ],
      "text/plain": [
       "              Hours      Scores\n",
       "N         25.000000   25.000000\n",
       "NMiss      0.000000    0.000000\n",
       "Mean       5.012000   51.480000\n",
       "Median     4.800000   47.000000\n",
       "Variance   6.376100  639.426667\n",
       "StDev      2.525094   25.286887\n",
       "Min        1.100000   17.000000\n",
       "P1         1.196000   17.720000\n",
       "P5         1.580000   20.200000\n",
       "P10        2.140000   22.200000\n",
       "P25        2.700000   30.000000\n",
       "P50        4.800000   47.000000\n",
       "P75        7.400000   75.000000\n",
       "P90        8.420000   85.600000\n",
       "P95        8.820000   87.600000\n",
       "P99        9.128000   93.320000\n",
       "Max        9.200000   95.000000"
      ]
     },
     "execution_count": 6,
     "metadata": {},
     "output_type": "execute_result"
    }
   ],
   "source": [
    "data.apply(cont_var_summary)"
   ]
  },
  {
   "cell_type": "code",
   "execution_count": 7,
   "metadata": {},
   "outputs": [],
   "source": [
    "#No Missing Values, therefore, no need for missing value imputation"
   ]
  },
  {
   "cell_type": "code",
   "execution_count": 8,
   "metadata": {},
   "outputs": [],
   "source": [
    "#No significant difference in different quantiles of values, therefore, assuming no outlier presence "
   ]
  },
  {
   "cell_type": "code",
   "execution_count": 9,
   "metadata": {},
   "outputs": [],
   "source": [
    "#No categorical variables in the independent variables, therefore, no need for Dummy variables creation"
   ]
  },
  {
   "cell_type": "code",
   "execution_count": 10,
   "metadata": {},
   "outputs": [],
   "source": [
    "#No need to check for correlation among independent variables as there is only one independent variable"
   ]
  },
  {
   "cell_type": "code",
   "execution_count": 11,
   "metadata": {},
   "outputs": [
    {
     "data": {
      "image/png": "[encoded data removed]",
      "text/plain": [
       "<Figure size 432x288 with 1 Axes>"
      ]
     },
     "metadata": {
      "needs_background": "light"
     },
     "output_type": "display_data"
    }
   ],
   "source": [
    "#Checking the dependent variable for normal distribution\n",
    "sns.distplot(data.Scores)\n",
    "plt.show()"
   ]
  },
  {
   "cell_type": "code",
   "execution_count": 12,
   "metadata": {},
   "outputs": [],
   "source": [
    "#Train Test Split\n",
    "train,test=train_test_split(data,test_size=0.3,random_state=120293)"
   ]
  },
  {
   "cell_type": "markdown",
   "metadata": {},
   "source": [
    "### Linear Regression"
   ]
  },
  {
   "cell_type": "code",
   "execution_count": 13,
   "metadata": {},
   "outputs": [],
   "source": [
    "#No need for variable reduction as there is only one independent variable"
   ]
  },
  {
   "cell_type": "code",
   "execution_count": 14,
   "metadata": {},
   "outputs": [],
   "source": [
    "mod_val='Scores~Hours'"
   ]
  },
  {
   "cell_type": "code",
   "execution_count": 15,
   "metadata": {},
   "outputs": [],
   "source": [
    "lm=smf.ols(mod_val,train).fit()"
   ]
  },
  {
   "cell_type": "code",
   "execution_count": 16,
   "metadata": {},
   "outputs": [
    {
     "name": "stdout",
     "output_type": "stream",
     "text": [
      "                            OLS Regression Results                            \n",
      "==============================================================================\n",
      "Dep. Variable:                 Scores   R-squared:                       0.964\n",
      "Model:                            OLS   Adj. R-squared:                  0.962\n",
      "Method:                 Least Squares   F-statistic:                     402.1\n",
      "Date:                Wed, 29 Jul 2020   Prob (F-statistic):           3.04e-12\n",
      "Time:                        22:38:14   Log-Likelihood:                -49.717\n",
      "No. Observations:                  17   AIC:                             103.4\n",
      "Df Residuals:                      15   BIC:                             105.1\n",
      "Df Model:                           1                                         \n",
      "Covariance Type:            nonrobust                                         \n",
      "==============================================================================\n",
      "                 coef    std err          t      P>|t|      [0.025      0.975]\n",
      "------------------------------------------------------------------------------\n",
      "Intercept      2.0089      2.421      0.830      0.420      -3.152       7.170\n",
      "Hours         10.0955      0.503     20.053      0.000       9.022      11.169\n",
      "==============================================================================\n",
      "Omnibus:                        4.846   Durbin-Watson:                   1.825\n",
      "Prob(Omnibus):                  0.089   Jarque-Bera (JB):                1.769\n",
      "Skew:                          -0.385   Prob(JB):                        0.413\n",
      "Kurtosis:                       1.620   Cond. No.                         10.3\n",
      "==============================================================================\n",
      "\n",
      "Warnings:\n",
      "[1] Standard Errors assume that the covariance matrix of the errors is correctly specified.\n"
     ]
    },
    {
     "name": "stderr",
     "output_type": "stream",
     "text": [
      "C:\\Users\\Lenovo\\Anaconda3\\lib\\site-packages\\scipy\\stats\\stats.py:1416: UserWarning: kurtosistest only valid for n>=20 ... continuing anyway, n=17\n",
      "  \"anyway, n=%i\" % int(n))\n"
     ]
    }
   ],
   "source": [
    "print(lm.summary())"
   ]
  },
  {
   "cell_type": "code",
   "execution_count": 17,
   "metadata": {},
   "outputs": [],
   "source": [
    "#Predicting for train and test datasets\n",
    "train_pred=lm.predict(train.Hours)\n",
    "test_pred=lm.predict(test.Hours)"
   ]
  },
  {
   "cell_type": "code",
   "execution_count": 18,
   "metadata": {},
   "outputs": [],
   "source": [
    "#Evaluating the results"
   ]
  },
  {
   "cell_type": "code",
   "execution_count": 19,
   "metadata": {},
   "outputs": [
    {
     "name": "stdout",
     "output_type": "stream",
     "text": [
      "RMSE for Train: 4.506784331096997\n",
      "RMSE for Test: 7.281933263265796\n"
     ]
    }
   ],
   "source": [
    "#RMSE\n",
    "train_rmse=np.sqrt(metrics.mean_squared_error(train.Scores,train_pred))\n",
    "test_rmse=np.sqrt(metrics.mean_squared_error(test.Scores,test_pred))\n",
    "print('RMSE for Train:',train_rmse)\n",
    "print('RMSE for Test:',test_rmse)"
   ]
  },
  {
   "cell_type": "code",
   "execution_count": 20,
   "metadata": {},
   "outputs": [
    {
     "name": "stdout",
     "output_type": "stream",
     "text": [
      "MAPE for Train: 0.11973057974822335\n",
      "MAPE for Test: 0.11973258989946323\n"
     ]
    }
   ],
   "source": [
    "#MAPE\n",
    "train_mape=np.mean(np.abs((train.Scores-train_pred)/train.Scores))\n",
    "test_mape=np.mean(np.abs((test.Scores-test_pred)/test.Scores))\n",
    "print('MAPE for Train:',train_mape)\n",
    "print('MAPE for Test:',test_mape)"
   ]
  },
  {
   "cell_type": "code",
   "execution_count": 21,
   "metadata": {},
   "outputs": [
    {
     "name": "stdout",
     "output_type": "stream",
     "text": [
      "Correlation for Train: (0.9818555649851761, 3.0358576498298122e-12)\n",
      "Correlation for Test: (0.9482382453151318, 0.0003333900706407021)\n"
     ]
    }
   ],
   "source": [
    "#Correlation\n",
    "train_corr=stats.stats.pearsonr(train.Scores,train_pred)\n",
    "test_corr=stats.stats.pearsonr(test.Scores,test_pred)\n",
    "print('Correlation for Train:',train_corr)\n",
    "print('Correlation for Test:',test_corr)"
   ]
  },
  {
   "cell_type": "code",
   "execution_count": 22,
   "metadata": {},
   "outputs": [],
   "source": [
    "#Decile Analysis"
   ]
  },
  {
   "cell_type": "code",
   "execution_count": 23,
   "metadata": {},
   "outputs": [
    {
     "name": "stdout",
     "output_type": "stream",
     "text": [
      "Decile Analysis for Train:\n",
      "          Predicted  Actual\n",
      "Deciles                   \n",
      "9        88.830410    88.0\n",
      "8        70.658456    73.5\n",
      "7        57.534268    60.0\n",
      "6        51.981726    50.5\n",
      "5        40.371867    35.0\n",
      "4        36.333655    36.0\n",
      "3        29.266784    27.5\n",
      "1        25.228572    25.0\n",
      "0        15.133042    18.5\n"
     ]
    },
    {
     "name": "stderr",
     "output_type": "stream",
     "text": [
      "C:\\Users\\Lenovo\\Anaconda3\\lib\\site-packages\\ipykernel_launcher.py:1: SettingWithCopyWarning: \n",
      "A value is trying to be set on a copy of a slice from a DataFrame.\n",
      "Try using .loc[row_indexer,col_indexer] = value instead\n",
      "\n",
      "See the caveats in the documentation: http://pandas.pydata.org/pandas-docs/stable/indexing.html#indexing-view-versus-copy\n",
      "  \"\"\"Entry point for launching an IPython kernel.\n",
      "C:\\Users\\Lenovo\\Anaconda3\\lib\\site-packages\\ipykernel_launcher.py:2: SettingWithCopyWarning: \n",
      "A value is trying to be set on a copy of a slice from a DataFrame.\n",
      "Try using .loc[row_indexer,col_indexer] = value instead\n",
      "\n",
      "See the caveats in the documentation: http://pandas.pydata.org/pandas-docs/stable/indexing.html#indexing-view-versus-copy\n",
      "  \n"
     ]
    }
   ],
   "source": [
    "train['Pred']=train_pred\n",
    "train['Deciles']=pd.qcut(train['Pred'],10,labels=False)\n",
    "predicted=train[['Deciles','Pred']].groupby(['Deciles']).Pred.mean().sort_values(ascending=False)\n",
    "actual=train[['Deciles','Scores']].groupby(['Deciles']).Scores.mean().sort_values(ascending=False)\n",
    "train_decile_analysis=pd.concat([predicted,actual],axis=1).sort_index(ascending=False)\n",
    "train_decile_analysis.columns=['Predicted','Actual']\n",
    "print('Decile Analysis for Train:\\n',train_decile_analysis)"
   ]
  },
  {
   "cell_type": "code",
   "execution_count": 24,
   "metadata": {
    "scrolled": true
   },
   "outputs": [
    {
     "name": "stdout",
     "output_type": "stream",
     "text": [
      "Decile Analysis for Test:\n",
      "          Predicted  Actual\n",
      "Deciles                   \n",
      "9        94.887728      88\n",
      "8        87.820857      75\n",
      "7        80.753986      86\n",
      "5        76.715774      69\n",
      "4        71.668009      76\n",
      "2        63.591586      67\n",
      "1        47.438738      41\n",
      "0        34.314549      27\n"
     ]
    },
    {
     "name": "stderr",
     "output_type": "stream",
     "text": [
      "C:\\Users\\Lenovo\\Anaconda3\\lib\\site-packages\\ipykernel_launcher.py:1: SettingWithCopyWarning: \n",
      "A value is trying to be set on a copy of a slice from a DataFrame.\n",
      "Try using .loc[row_indexer,col_indexer] = value instead\n",
      "\n",
      "See the caveats in the documentation: http://pandas.pydata.org/pandas-docs/stable/indexing.html#indexing-view-versus-copy\n",
      "  \"\"\"Entry point for launching an IPython kernel.\n",
      "C:\\Users\\Lenovo\\Anaconda3\\lib\\site-packages\\ipykernel_launcher.py:2: SettingWithCopyWarning: \n",
      "A value is trying to be set on a copy of a slice from a DataFrame.\n",
      "Try using .loc[row_indexer,col_indexer] = value instead\n",
      "\n",
      "See the caveats in the documentation: http://pandas.pydata.org/pandas-docs/stable/indexing.html#indexing-view-versus-copy\n",
      "  \n"
     ]
    }
   ],
   "source": [
    "test['Pred']=test_pred\n",
    "test['Deciles']=pd.qcut(test['Pred'],10,labels=False)\n",
    "predicted=test[['Deciles','Pred']].groupby(['Deciles']).Pred.mean().sort_values(ascending=False)\n",
    "actual=test[['Deciles','Scores']].groupby(['Deciles']).Scores.mean().sort_values(ascending=False)\n",
    "test_decile_analysis=pd.concat([predicted,actual],axis=1).sort_index(ascending=False)\n",
    "test_decile_analysis.columns=['Predicted','Actual']\n",
    "print('Decile Analysis for Test:\\n',test_decile_analysis)"
   ]
  },
  {
   "cell_type": "markdown",
   "metadata": {},
   "source": [
    "### Visualizing Results"
   ]
  },
  {
   "cell_type": "code",
   "execution_count": 25,
   "metadata": {},
   "outputs": [],
   "source": [
    "data=pd.concat([train,test],axis=0)\n",
    "data.sort_values(['Hours','Scores'],inplace=True)"
   ]
  },
  {
   "cell_type": "code",
   "execution_count": 26,
   "metadata": {},
   "outputs": [
    {
     "data": {
      "image/png": "[encoded data removed]",
      "text/plain": [
       "<Figure size 864x504 with 1 Axes>"
      ]
     },
     "metadata": {
      "needs_background": "light"
     },
     "output_type": "display_data"
    }
   ],
   "source": [
    "plt.figure(figsize=(12,7))\n",
    "plt.grid()\n",
    "plt.scatter(data.Hours,data.Scores,color='red',label='Actual Score')\n",
    "plt.plot(data.Hours,data.Pred,color='green',marker='o',label='Predicted Score')\n",
    "plt.xlabel('Number Of Hours')\n",
    "plt.ylabel('Score')\n",
    "plt.legend()\n",
    "plt.show()"
   ]
  },
  {
   "cell_type": "code",
   "execution_count": 27,
   "metadata": {},
   "outputs": [],
   "source": [
    "test_case_ser=pd.DataFrame([9.25])\n",
    "test_case_ser.columns=['Hours']\n",
    "#lm.predict(test_case_ser)"
   ]
  },
  {
   "cell_type": "code",
   "execution_count": 28,
   "metadata": {},
   "outputs": [
    {
     "data": {
      "text/plain": [
       "0    95.392505\n",
       "dtype: float64"
      ]
     },
     "execution_count": 28,
     "metadata": {},
     "output_type": "execute_result"
    }
   ],
   "source": [
    "lm.predict(test_case_ser.Hours)"
   ]
  }
 ],
 "metadata": {
  "kernelspec": {
   "display_name": "Python 3",
   "language": "python",
   "name": "python3"
  },
  "language_info": {
   "codemirror_mode": {
    "name": "ipython",
    "version": 3
   },
   "file_extension": ".py",
   "mimetype": "text/x-python",
   "name": "python",
   "nbconvert_exporter": "python",
   "pygments_lexer": "ipython3",
   "version": "3.7.3"
  }
 },
 "nbformat": 4,
 "nbformat_minor": 2
}
